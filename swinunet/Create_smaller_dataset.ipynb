{
 "cells": [
  {
   "cell_type": "code",
   "execution_count": 16,
   "id": "fc235a7a",
   "metadata": {},
   "outputs": [],
   "source": [
    "import os\n",
    "\n",
    "root = \"/home/awias/data/SwinUNETR\"\n",
    "output = \"/home/awias/data/SwinUNETR2\"\n"
   ]
  },
  {
   "cell_type": "code",
   "execution_count": null,
   "id": "e2f7ee77",
   "metadata": {},
   "outputs": [],
   "source": [
    "import shutil\n",
    "\n",
    "for entry in os.scandir(root):\n",
    "    if entry.is_dir() and not entry.name.startswith('.'):\n",
    "        files = [f for f in os.listdir(entry.path) if f.endswith(\".nii.gz\")]\n",
    "        sorted_files = sorted(files, key=lambda s: int(s.split('.')[0]))\n",
    "        \n",
    "        # Create output directory structure\n",
    "        output_dir = os.path.join(output, entry.name)\n",
    "        os.makedirs(output_dir, exist_ok=True)\n",
    "\n",
    "        # Copy first 10 files\n",
    "        for file in sorted_files[:10]:\n",
    "            src = os.path.join(entry.path, file)\n",
    "            dst = os.path.join(output_dir, file)\n",
    "            shutil.copy2(src, dst)"
   ]
  },
  {
   "cell_type": "code",
   "execution_count": 7,
   "id": "9f5dcb96",
   "metadata": {},
   "outputs": [],
   "source": [
    "path = \"/home/awias/data/SwinUNETR/labelsTr\""
   ]
  },
  {
   "cell_type": "code",
   "execution_count": 10,
   "id": "f0d85d30",
   "metadata": {},
   "outputs": [],
   "source": [
    "files = [f for f in os.listdir(path) if f.endswith(\".nii.gz\")]"
   ]
  },
  {
   "cell_type": "code",
   "execution_count": 12,
   "id": "a4a00b57",
   "metadata": {},
   "outputs": [],
   "source": [
    "sorted_files = sorted(files, key=lambda s: int(s.split('.')[0]))"
   ]
  },
  {
   "cell_type": "code",
   "execution_count": null,
   "id": "2596f903",
   "metadata": {},
   "outputs": [],
   "source": []
  }
 ],
 "metadata": {
  "kernelspec": {
   "display_name": "standard",
   "language": "python",
   "name": "python3"
  },
  "language_info": {
   "codemirror_mode": {
    "name": "ipython",
    "version": 3
   },
   "file_extension": ".py",
   "mimetype": "text/x-python",
   "name": "python",
   "nbconvert_exporter": "python",
   "pygments_lexer": "ipython3",
   "version": "3.12.3"
  }
 },
 "nbformat": 4,
 "nbformat_minor": 5
}

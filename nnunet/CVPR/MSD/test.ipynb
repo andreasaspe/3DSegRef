{
 "cells": [
  {
   "cell_type": "code",
   "execution_count": 1,
   "id": "a3b98848",
   "metadata": {},
   "outputs": [],
   "source": [
    "import vtk\n",
    "import tools\n",
    "import SimpleITK as sitk\n",
    "import os"
   ]
  },
  {
   "cell_type": "code",
   "execution_count": 2,
   "id": "09f9c85d",
   "metadata": {},
   "outputs": [],
   "source": [
    "root = \"/home/awias/data/MSD/Task01_BrainTumour/imagesTr\"\n",
    "img_path = os.path.join(root, \"BRATS_001.nii.gz\")"
   ]
  },
  {
   "cell_type": "code",
   "execution_count": 3,
   "id": "3768e7f7",
   "metadata": {},
   "outputs": [],
   "source": [
    "img_sitk = sitk.ReadImage(img_path)"
   ]
  },
  {
   "cell_type": "code",
   "execution_count": 4,
   "id": "0900ad33",
   "metadata": {},
   "outputs": [
    {
     "data": {
      "text/plain": [
       "['BRATS_001.nii.gz', 'BRATS_002.nii.gz']"
      ]
     },
     "execution_count": 4,
     "metadata": {},
     "output_type": "execute_result"
    }
   ],
   "source": [
    "os.listdir(root)"
   ]
  },
  {
   "cell_type": "code",
   "execution_count": 5,
   "id": "99b15f01",
   "metadata": {},
   "outputs": [
    {
     "data": {
      "text/plain": [
       "(240, 240, 155, 4)"
      ]
     },
     "execution_count": 5,
     "metadata": {},
     "output_type": "execute_result"
    }
   ],
   "source": [
    "img_sitk.GetSize()"
   ]
  }
 ],
 "metadata": {
  "kernelspec": {
   "display_name": "standard",
   "language": "python",
   "name": "python3"
  },
  "language_info": {
   "codemirror_mode": {
    "name": "ipython",
    "version": 3
   },
   "file_extension": ".py",
   "mimetype": "text/x-python",
   "name": "python",
   "nbconvert_exporter": "python",
   "pygments_lexer": "ipython3",
   "version": "3.12.3"
  }
 },
 "nbformat": 4,
 "nbformat_minor": 5
}

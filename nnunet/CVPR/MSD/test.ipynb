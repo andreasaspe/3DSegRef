{
 "cells": [
  {
   "cell_type": "code",
   "execution_count": 16,
   "id": "a3b98848",
   "metadata": {},
   "outputs": [],
   "source": [
    "import vtk\n",
    "import tools\n",
    "import SimpleITK as sitk\n",
    "import os"
   ]
  },
  {
   "cell_type": "code",
   "execution_count": 17,
   "id": "09f9c85d",
   "metadata": {},
   "outputs": [],
   "source": [
    "root = \"/home/awias/data/MSD/Task01_BrainTumour/imagesTr\"\n",
    "img_path = os.path.join(root, \"BRATS_001.nii.gz\")"
   ]
  },
  {
   "cell_type": "code",
   "execution_count": 19,
   "id": "3768e7f7",
   "metadata": {},
   "outputs": [
    {
     "ename": "RuntimeError",
     "evalue": "Exception thrown in SimpleITK ImageFileReader_Execute: /tmp/SimpleITK/Code/IO/src/sitkImageReaderBase.cxx:91:\nsitk::ERROR: The file \"/home/awias/data/MSD/Task01_BrainTumour/imagesTr/BRATS_001.nii.gz\" does not exist.",
     "output_type": "error",
     "traceback": [
      "\u001b[31m---------------------------------------------------------------------------\u001b[39m",
      "\u001b[31mRuntimeError\u001b[39m                              Traceback (most recent call last)",
      "\u001b[32m/tmp/ipykernel_224951/1323527190.py\u001b[39m in \u001b[36m?\u001b[39m\u001b[34m()\u001b[39m\n\u001b[32m----> \u001b[39m\u001b[32m1\u001b[39m img_sitk = sitk.ReadImage(img_path)\n",
      "\u001b[32m~/.conda/envs/standard/lib/python3.13/site-packages/SimpleITK/extra.py\u001b[39m in \u001b[36m?\u001b[39m\u001b[34m(fileName, outputPixelType, imageIO)\u001b[39m\n\u001b[32m    380\u001b[39m         reader.SetFileNames(fileName)\n\u001b[32m    381\u001b[39m \n\u001b[32m    382\u001b[39m     reader.SetImageIO(imageIO)\n\u001b[32m    383\u001b[39m     reader.SetOutputPixelType(outputPixelType)\n\u001b[32m--> \u001b[39m\u001b[32m384\u001b[39m     \u001b[38;5;28;01mreturn\u001b[39;00m reader.Execute()\n",
      "\u001b[32m~/.conda/envs/standard/lib/python3.13/site-packages/SimpleITK/SimpleITK.py\u001b[39m in \u001b[36m?\u001b[39m\u001b[34m(self)\u001b[39m\n\u001b[32m   8530\u001b[39m         type to be same \u001b[38;5;28;01mas\u001b[39;00m the file. If the pixel type \u001b[38;5;28;01mis\u001b[39;00m specified then the itk::ConvertPixelBuffer will be used to convert the pixels.\n\u001b[32m   8531\u001b[39m \n\u001b[32m   8532\u001b[39m \n\u001b[32m   8533\u001b[39m         \"\"\"\n\u001b[32m-> \u001b[39m\u001b[32m8534\u001b[39m         \u001b[38;5;28;01mreturn\u001b[39;00m _SimpleITK.ImageFileReader_Execute(self)\n",
      "\u001b[31mRuntimeError\u001b[39m: Exception thrown in SimpleITK ImageFileReader_Execute: /tmp/SimpleITK/Code/IO/src/sitkImageReaderBase.cxx:91:\nsitk::ERROR: The file \"/home/awias/data/MSD/Task01_BrainTumour/imagesTr/BRATS_001.nii.gz\" does not exist."
     ]
    }
   ],
   "source": [
    "img_sitk = sitk.ReadImage(img_path)"
   ]
  },
  {
   "cell_type": "code",
   "execution_count": 20,
   "id": "0900ad33",
   "metadata": {},
   "outputs": [
    {
     "ename": "FileNotFoundError",
     "evalue": "[Errno 2] No such file or directory: '/home/awias/data/MSD/Task01_BrainTumour/imagesTr'",
     "output_type": "error",
     "traceback": [
      "\u001b[31m---------------------------------------------------------------------------\u001b[39m",
      "\u001b[31mFileNotFoundError\u001b[39m                         Traceback (most recent call last)",
      "\u001b[36mCell\u001b[39m\u001b[36m \u001b[39m\u001b[32mIn[20]\u001b[39m\u001b[32m, line 1\u001b[39m\n\u001b[32m----> \u001b[39m\u001b[32m1\u001b[39m \u001b[43mos\u001b[49m\u001b[43m.\u001b[49m\u001b[43mlistdir\u001b[49m\u001b[43m(\u001b[49m\u001b[43mroot\u001b[49m\u001b[43m)\u001b[49m\n",
      "\u001b[31mFileNotFoundError\u001b[39m: [Errno 2] No such file or directory: '/home/awias/data/MSD/Task01_BrainTumour/imagesTr'"
     ]
    }
   ],
   "source": [
    "os.listdir(root)"
   ]
  },
  {
   "cell_type": "code",
   "execution_count": null,
   "id": "99b15f01",
   "metadata": {},
   "outputs": [],
   "source": []
  }
 ],
 "metadata": {
  "kernelspec": {
   "display_name": "standard",
   "language": "python",
   "name": "python3"
  },
  "language_info": {
   "codemirror_mode": {
    "name": "ipython",
    "version": 3
   },
   "file_extension": ".py",
   "mimetype": "text/x-python",
   "name": "python",
   "nbconvert_exporter": "python",
   "pygments_lexer": "ipython3",
   "version": "3.13.5"
  }
 },
 "nbformat": 4,
 "nbformat_minor": 5
}

{
 "cells": [
  {
   "cell_type": "code",
   "execution_count": 7,
   "id": "686556d5",
   "metadata": {},
   "outputs": [
    {
     "name": "stderr",
     "output_type": "stream",
     "text": [
      "  0%|          | 1/1228 [00:00<05:07,  3.99it/s]"
     ]
    },
    {
     "name": "stdout",
     "output_type": "stream",
     "text": [
      "Skipping s0000: No organ segmentation found\n",
      "YEAH\n",
      "s0001 pancreas\n",
      "YEAH\n",
      "s0001 duodenum\n",
      "YEAH\n",
      "s0001 adrenal_gland_left\n"
     ]
    },
    {
     "name": "stderr",
     "output_type": "stream",
     "text": [
      "\n"
     ]
    }
   ],
   "source": [
    "import numpy as np\n",
    "import nibabel as nib\n",
    "import nibabel.orientations as nio\n",
    "from scipy.ndimage import center_of_mass\n",
    "import os\n",
    "import numpy as np\n",
    "from tqdm import tqdm\n",
    "\n",
    "def reorient_to(img, axcodes_to=('P', 'I', 'R'), verb=False):\n",
    "    \"\"\"Reorients the nifti from its original orientation to another specified orientation\n",
    "    \n",
    "    Parameters:\n",
    "    ----------\n",
    "    img: nibabel image\n",
    "    axcodes_to: a tuple of 3 characters specifying the desired orientation\n",
    "    \n",
    "    Returns:\n",
    "    ----------\n",
    "    newimg: The reoriented nibabel image \n",
    "    \n",
    "    \"\"\"\n",
    "    aff = img.affine\n",
    "    ornt_fr = nio.io_orientation(aff)\n",
    "    axcodes_fr = nio.ornt2axcodes(ornt_fr)\n",
    "    if axcodes_to == axcodes_fr:\n",
    "        return img\n",
    "    ornt_to = nio.axcodes2ornt(axcodes_to)\n",
    "    arr = np.asanyarray(img.dataobj, dtype=img.dataobj.dtype)\n",
    "    ornt_trans = nio.ornt_transform(ornt_fr, ornt_to)\n",
    "    arr = nio.apply_orientation(arr, ornt_trans)\n",
    "    aff_trans = nio.inv_ornt_aff(ornt_trans, arr.shape)\n",
    "    newaff = np.matmul(aff, aff_trans)\n",
    "    newimg = nib.Nifti1Image(arr, newaff)\n",
    "    if verb:\n",
    "        print(\"[*] Image reoriented from\", nio.ornt2axcodes(ornt_fr), \"to\", axcodes_to)\n",
    "    return newimg\n",
    "\n",
    "\n",
    "\n",
    "# Directories ubuntu\n",
    "# base_dir = \"/home/awias/data/Totalsegmentator_dataset_v201\"\n",
    "# savepath_root = \"/home/awias/data/Totalsegmentator_dataset_v201_filtered_liver\"\n",
    "\n",
    "# Directories titans\n",
    "base_dir = \"/scratch/awias/data/Totalsegmentator_dataset_v201\"\n",
    "savepath_root = \"/scratch/awias/data/Totalsegmentator_dataset_v201_filtered_pancreas\"\n",
    "\n",
    "os.makedirs(savepath_root, exist_ok=True)\n",
    "\n",
    "# Get all subject folders (s0000, s0001, ...)\n",
    "subjects = sorted([d for d in os.listdir(base_dir) if d.startswith(\"s\")])\n",
    "\n",
    "idx = 0\n",
    "\n",
    "# subjects = ['s0001']\n",
    "\n",
    "list_of_organs = {'pancreas': 1, 'gallbladder': 2, 'duodenum': 3, 'adrenal_gland_left': 4}\n",
    "\n",
    "for subj in tqdm(subjects):\n",
    "    ct_path = os.path.join(base_dir, subj, \"ct.nii.gz\")\n",
    "    \n",
    "    combined_seg_arr = None\n",
    "\n",
    "    for organ, organ_id in list_of_organs.items():\n",
    "        seg_path = os.path.join(base_dir, subj, \"segmentations\", f\"{organ}.nii.gz\")\n",
    "        seg_nib = nib.load(seg_path)\n",
    "        seg_arr = seg_nib.get_fdata(dtype=np.float32)\n",
    "        if np.max(seg_arr) == 1:\n",
    "            if combined_seg_arr is None:\n",
    "                combined_seg_arr = np.zeros_like(seg_arr)\n",
    "            combined_seg_arr[seg_arr == 1] = organ_id\n",
    "            print(\"YEAH\")\n",
    "            print(subj, organ)\n",
    "\n",
    "    if combined_seg_arr is None:\n",
    "            print(f\"Skipping {subj}: No organ segmentation found\")\n",
    "            continue\n",
    "    else:\n",
    "        break"
   ]
  },
  {
   "cell_type": "code",
   "execution_count": 8,
   "id": "976deaa3",
   "metadata": {},
   "outputs": [
    {
     "name": "stdout",
     "output_type": "stream",
     "text": [
      "True\n",
      "False\n",
      "True\n",
      "True\n"
     ]
    }
   ],
   "source": [
    "print(np.any(combined_seg_arr == 1))\n",
    "print(np.any(combined_seg_arr == 2))\n",
    "print(np.any(combined_seg_arr == 3))\n",
    "print(np.any(combined_seg_arr == 4))\n"
   ]
  },
  {
   "cell_type": "code",
   "execution_count": 11,
   "id": "aef6df4a",
   "metadata": {},
   "outputs": [],
   "source": [
    "import SimpleITK as sitk\n",
    "import numpy as np\n",
    "import matplotlib.pyplot as plt\n",
    "import matplotlib.colors as mcolors\n",
    "import os\n",
    "from matplotlib.patches import Patch\n",
    "\n",
    "def plot_central_slice_mask(mask, spacing=None, title=None, output_path=None):\n",
    "    \"\"\"\n",
    "    Plot central slice of mask\n",
    "\n",
    "    input:\n",
    "        mask: mask (numpy)\n",
    "        spacing: image spacing (numpy)\n",
    "        title: plot title (str)\n",
    "    \"\"\"\n",
    "\n",
    "    unique_classes = np.unique(mask)\n",
    "    unique_classes = unique_classes[unique_classes != 0]\n",
    "\n",
    "    colors = [\"black\"] + [plt.cm.tab10(i) for i in range(len(unique_classes))]\n",
    "    cmap = mcolors.ListedColormap(colors)\n",
    "    bounds = np.concatenate(([0], unique_classes))\n",
    "    norm = mcolors.BoundaryNorm(boundaries=np.arange(len(bounds) + 1) - 0.5, ncolors=len(bounds))\n",
    "\n",
    "    if spacing is None:\n",
    "        spacing = np.ones(3)\n",
    "\n",
    "    fig, ax = plt.subplots(1, 3, figsize=(10, 5))\n",
    "    ax[0].imshow(mask[mask.shape[0] // 2].T, cmap=cmap, norm=norm, origin=\"lower\")\n",
    "    ax[0].set_title('Sagittal')\n",
    "    ax[0].set_aspect(spacing[2] / spacing[1])\n",
    "    ax[1].imshow(mask[:, mask.shape[1] // 2].T, cmap=cmap, norm=norm, origin=\"lower\")\n",
    "    ax[1].set_title('Coronal')\n",
    "    ax[1].set_aspect(spacing[2] / spacing[0])\n",
    "    ax[2].imshow(mask[:, :, mask.shape[2] // 2].T, cmap=cmap, norm=norm, origin=\"lower\")\n",
    "    ax[2].set_title('Axial')\n",
    "    ax[2].set_aspect(spacing[1] / spacing[0])\n",
    "\n",
    "    if title is not None:\n",
    "        fig.suptitle(title)\n",
    "\n",
    "    if output_path is not None:\n",
    "        fig.savefig(output_path)\n",
    "        print(f\"Saved figure to: {output_path}\")\n",
    "    else:\n",
    "        plt.show()\n",
    "\n",
    "    plt.close()"
   ]
  },
  {
   "cell_type": "code",
   "execution_count": 13,
   "id": "4f132b0f",
   "metadata": {},
   "outputs": [
    {
     "data": {
      "image/png": "[encoded data removed]",
      "text/plain": [
       "<Figure size 1000x500 with 3 Axes>"
      ]
     },
     "metadata": {},
     "output_type": "display_data"
    }
   ],
   "source": [
    "plot_central_slice_mask(combined_seg_arr, title=subj)"
   ]
  }
 ],
 "metadata": {
  "kernelspec": {
   "display_name": "standard",
   "language": "python",
   "name": "python3"
  },
  "language_info": {
   "codemirror_mode": {
    "name": "ipython",
    "version": 3
   },
   "file_extension": ".py",
   "mimetype": "text/x-python",
   "name": "python",
   "nbconvert_exporter": "python",
   "pygments_lexer": "ipython3",
   "version": "3.13.5"
  }
 },
 "nbformat": 4,
 "nbformat_minor": 5
}

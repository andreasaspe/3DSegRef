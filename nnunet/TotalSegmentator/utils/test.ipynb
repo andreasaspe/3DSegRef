{
 "cells": [
  {
   "cell_type": "code",
   "execution_count": null,
   "id": "44f794c7",
   "metadata": {},
   "outputs": [],
   "source": []
  }
 ],
 "metadata": {
  "kernelspec": {
   "display_name": "nnunet_v2",
   "language": "python",
   "name": "python3"
  },
  "language_info": {
   "name": "python",
   "version": "3.13.5"
  }
 },
 "nbformat": 4,
 "nbformat_minor": 5
}

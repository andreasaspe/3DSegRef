{
 "cells": [
  {
   "cell_type": "code",
   "execution_count": 15,
   "id": "08ff9e71",
   "metadata": {},
   "outputs": [],
   "source": [
    "from pathlib import Path\n",
    "from numpy.core.numeric import NaN\n",
    "import numpy as np\n",
    "import nibabel as nib\n",
    "import nibabel.processing as nip\n",
    "import nibabel.orientations as nio\n",
    "from scipy.ndimage import center_of_mass\n",
    "import matplotlib.pyplot as plt\n",
    "from matplotlib.colors import ListedColormap, Normalize\n",
    "from matplotlib.patches import Circle\n",
    "import json\n",
    "import tools as tools"
   ]
  },
  {
   "cell_type": "code",
   "execution_count": 14,
   "id": "91411af4",
   "metadata": {},
   "outputs": [],
   "source": [
    "def reorient_to(img, axcodes_to=('P', 'I', 'R'), verb=False):\n",
    "    \"\"\"Reorients the nifti from its original orientation to another specified orientation\n",
    "    \n",
    "    Parameters:\n",
    "    ----------\n",
    "    img: nibabel image\n",
    "    axcodes_to: a tuple of 3 characters specifying the desired orientation\n",
    "    \n",
    "    Returns:\n",
    "    ----------\n",
    "    newimg: The reoriented nibabel image \n",
    "    \n",
    "    \"\"\"\n",
    "    aff = img.affine\n",
    "    ornt_fr = nio.io_orientation(aff)\n",
    "    axcodes_fr = nio.ornt2axcodes(ornt_fr)\n",
    "    if axcodes_to == axcodes_fr:\n",
    "        return img\n",
    "    ornt_to = nio.axcodes2ornt(axcodes_to)\n",
    "    arr = np.asanyarray(img.dataobj, dtype=img.dataobj.dtype)\n",
    "    ornt_trans = nio.ornt_transform(ornt_fr, ornt_to)\n",
    "    arr = nio.apply_orientation(arr, ornt_trans)\n",
    "    aff_trans = nio.inv_ornt_aff(ornt_trans, arr.shape)\n",
    "    newaff = np.matmul(aff, aff_trans)\n",
    "    newimg = nib.Nifti1Image(arr, newaff)\n",
    "    if verb:\n",
    "        print(\"[*] Image reoriented from\", nio.ornt2axcodes(ornt_fr), \"to\", axcodes_to)\n",
    "    return newimg\n"
   ]
  },
  {
   "cell_type": "code",
   "execution_count": null,
   "id": "7bc4fc6b",
   "metadata": {},
   "outputs": [],
   "source": [
    "import os\n",
    "import SimpleITK as sitk\n",
    "import matplotlib.pyplot as plt\n",
    "import nibabel as nib\n",
    "import nibabel.orientations as nio\n",
    "import numpy as np\n",
    "\n",
    "# Base dataset directory\n",
    "# base_dir = \"/scratch/awias/data/Totalsegmentator_dataset_v201\"\n",
    "base_dir = \"/home/awias/data/Totalsegmentator_dataset_v201\"\n",
    "\n",
    "# Get all subject folders (s0000, s0001, ...)\n",
    "subjects = sorted([d for d in os.listdir(base_dir) if d.startswith(\"s\")])\n",
    "\n",
    "idx = 0\n",
    "\n",
    "subjects = ['s0001']\n",
    "\n",
    "for subj in subjects:\n",
    "    ct_path = os.path.join(base_dir, subj, \"ct.nii.gz\")\n",
    "    seg_path = os.path.join(base_dir, subj, \"segmentations\", \"vertebrae_L3.nii.gz\")\n",
    "\n",
    "    seg_nib = nib.load(seg_path)\n",
    "    seg_arr = seg_nib.get_fdata(dtype=np.float32)   # segmentation usually int\n",
    "\n",
    "    img_nib = nib.load(ct_path)\n",
    "    arr = img_nib.get_fdata(dtype=np.float32)\n",
    "\n",
    "    # Get voxel spacing\n",
    "    zooms = img_nib.header.get_zooms()[:3]\n",
    "\n",
    "    # Get orientation codes from affine\n",
    "    ornt = nio.io_orientation(img_nib.affine)\n",
    "    axcodes = nio.ornt2axcodes(ornt)\n",
    "\n",
    "    # Build a clean affine: diagonal with voxel spacing\n",
    "    new_affine = np.diag(list(zooms) + [1])\n",
    "\n",
    "    # Optionally, you can enforce a pure identity orientation *with voxel spacing*:\n",
    "    new_affine[:3, :3] = np.eye(3) * np.array(zooms)\n",
    "\n",
    "    # Reset origin so all images start at the same place\n",
    "    new_affine[:3, 3] = 0\n",
    "\n",
    "    # Save new NIfTI with minimal clean header\n",
    "    new_img = nib.Nifti1Image(arr, affine=new_affine)\n",
    "    new_seg = nib.Nifti1Image(seg_arr, affine=new_affine)\n",
    "    # new_img.header.set_xyzt_units('mm')\n",
    "    # new_seg.header.set_xyzt_units('mm')\n",
    "\n",
    "    new_orientation = ('L','A','S')  # Desired orientation\n",
    "\n",
    "    img_nib_reoriented = reorient_to(new_img, axcodes_to=new_orientation)\n",
    "    seg_nib_reoriented = reorient_to(new_seg, axcodes_to=new_orientation)\n",
    "\n",
    "    savepath_img = os.path.join(base_dir, subj, \"ct_modified.nii.gz\")\n",
    "    savepath_seg = os.path.join(base_dir, subj, \"liver_modified.nii.gz\")\n",
    "    nib.save(img_nib_reoriented, savepath_img)\n",
    "    nib.save(seg_nib_reoriented, savepath_seg)"
   ]
  },
  {
   "cell_type": "code",
   "execution_count": 24,
   "id": "6d542bba",
   "metadata": {},
   "outputs": [
    {
     "data": {
      "text/plain": [
       "array([[1.49999988, 0.        , 0.        ],\n",
       "       [0.        , 1.5       , 0.        ],\n",
       "       [0.        , 0.        , 1.5       ]])"
      ]
     },
     "execution_count": 24,
     "metadata": {},
     "output_type": "execute_result"
    }
   ],
   "source": [
    "np.eye(3) * np.array(zooms)"
   ]
  },
  {
   "cell_type": "code",
   "execution_count": 23,
   "id": "d1df1b49",
   "metadata": {},
   "outputs": [
    {
     "data": {
      "text/plain": [
       "array([[1.49999988, 0.        , 0.        , 0.        ],\n",
       "       [0.        , 1.5       , 0.        , 0.        ],\n",
       "       [0.        , 0.        , 1.5       , 0.        ],\n",
       "       [0.        , 0.        , 0.        , 1.        ]])"
      ]
     },
     "execution_count": 23,
     "metadata": {},
     "output_type": "execute_result"
    }
   ],
   "source": [
    "np.diag(list(zooms) + [1])\n"
   ]
  },
  {
   "cell_type": "code",
   "execution_count": 12,
   "id": "f8c76dd2",
   "metadata": {},
   "outputs": [
    {
     "data": {
      "text/plain": [
       "array([[1.49999988, 0.        , 0.        , 0.        ],\n",
       "       [0.        , 1.5       , 0.        , 0.        ],\n",
       "       [0.        , 0.        , 1.5       , 0.        ],\n",
       "       [0.        , 0.        , 0.        , 1.        ]])"
      ]
     },
     "execution_count": 12,
     "metadata": {},
     "output_type": "execute_result"
    }
   ],
   "source": [
    "new_affine"
   ]
  },
  {
   "cell_type": "code",
   "execution_count": 6,
   "id": "d1397501",
   "metadata": {},
   "outputs": [
    {
     "data": {
      "text/plain": [
       "(1.5, 1.5000001, 1.5)"
      ]
     },
     "execution_count": 6,
     "metadata": {},
     "output_type": "execute_result"
    }
   ],
   "source": [
    "zooms"
   ]
  },
  {
   "cell_type": "code",
   "execution_count": 9,
   "id": "8cf181f8",
   "metadata": {},
   "outputs": [
    {
     "name": "stdout",
     "output_type": "stream",
     "text": [
      "CT Scan Information:\n",
      " - Voxel Sizes (mm): (np.float32(1.5), np.float32(1.5000001), np.float32(1.5))\n",
      " - Orientation (RAS): ('R', 'A', 'S')\n",
      " - Data Shape (voxels): (294, 192, 179)\n",
      " - Data Shape (mm): [441.         288.00002289 268.5       ]\n",
      " - Data Type: int16\n"
     ]
    }
   ],
   "source": [
    "zooms = img_nib.header.get_zooms() #Voxel sizes\n",
    "axs_code = nio.ornt2axcodes(nio.io_orientation(img_nib.affine)) #Image orientation\n",
    "data_shape_voxels = img_nib.header.get_data_shape() #Shape of data\n",
    "data_shape_mm = np.array(data_shape_voxels)*np.array(zooms) #Data measures\n",
    "data_type = img_nib.header.get_data_dtype() #Data type\n",
    "\n",
    "print(\"CT Scan Information:\")\n",
    "print(f\" - Voxel Sizes (mm): {zooms}\")\n",
    "print(f\" - Orientation (RAS): {axs_code}\")\n",
    "print(f\" - Data Shape (voxels): {data_shape_voxels}\")\n",
    "print(f\" - Data Shape (mm): {data_shape_mm}\")\n",
    "print(f\" - Data Type: {data_type}\")"
   ]
  },
  {
   "cell_type": "code",
   "execution_count": null,
   "id": "841f117b",
   "metadata": {},
   "outputs": [],
   "source": [
    "import os\n",
    "import nibabel as nib\n",
    "import matplotlib.pyplot as plt\n",
    "\n",
    "# Base dataset directory\n",
    "base_dir = \"/scratch/awias/data/Totalsegmentator_dataset_v201\"\n",
    "\n",
    "# Get all subject folders (s0000, s0001, ...)\n",
    "subjects = sorted([d for d in os.listdir(base_dir) if d.startswith(\"s\")])\n",
    "\n",
    "for subj in subjects:\n",
    "    ct_path = os.path.join(base_dir, subj, \"ct.nii.gz\")\n",
    "    \n",
    "    if not os.path.exists(ct_path):\n",
    "        print(f\"Skipping {subj}, no CT found.\")\n",
    "        continue\n",
    "\n",
    "    # Load CT scan with nibabel\n",
    "    img = nib.load(ct_path)\n",
    "    arr = img.get_fdata()  # numpy array, shape: (x, y, z)\n",
    "\n",
    "    # Pick the middle slice in z-direction\n",
    "    mid_slice = arr.shape[2] // 2\n",
    "    slice_img = arr[:, :, mid_slice]\n",
    "\n",
    "    # Plot\n",
    "    plt.figure(figsize=(5,5))\n",
    "    plt.imshow(slice_img.T, cmap=\"gray\", origin=\"lower\")\n",
    "    plt.title(f\"{subj} - middle slice\")\n",
    "    plt.axis(\"off\")\n",
    "    plt.show()\n"
   ]
  }
 ],
 "metadata": {
  "kernelspec": {
   "display_name": "standard",
   "language": "python",
   "name": "python3"
  },
  "language_info": {
   "codemirror_mode": {
    "name": "ipython",
    "version": 3
   },
   "file_extension": ".py",
   "mimetype": "text/x-python",
   "name": "python",
   "nbconvert_exporter": "python",
   "pygments_lexer": "ipython3",
   "version": "3.12.3"
  }
 },
 "nbformat": 4,
 "nbformat_minor": 5
}

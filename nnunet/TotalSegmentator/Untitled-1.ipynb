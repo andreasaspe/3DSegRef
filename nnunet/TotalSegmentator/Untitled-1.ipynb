{
 "cells": [
  {
   "cell_type": "code",
   "execution_count": 4,
   "id": "7bc4fc6b",
   "metadata": {},
   "outputs": [
    {
     "name": "stdout",
     "output_type": "stream",
     "text": [
      "Error loading s0000: Exception thrown in SimpleITK ImageFileReader_Execute: /tmp/SimpleITK-build/ITK/Modules/IO/NIFTI/src/itkNiftiImageIO.cxx:2135:\n",
      "ITK ERROR: ITK only supports orthonormal direction cosines.  No orthonormal definition found!\n"
     ]
    }
   ],
   "source": [
    "import os\n",
    "import SimpleITK as sitk\n",
    "import matplotlib.pyplot as plt\n",
    "import nibabel as nib\n",
    "import nibabel.orientations as nio\n",
    "import numpy as np\n",
    "\n",
    "# Base dataset directory\n",
    "base_dir = \"/scratch/awias/data/Totalsegmentator_dataset_v201\"\n",
    "\n",
    "# Get all subject folders (s0000, s0001, ...)\n",
    "subjects = sorted([d for d in os.listdir(base_dir) if d.startswith(\"s\")])\n",
    "\n",
    "for subj in subjects:\n",
    "    ct_path = os.path.join(base_dir, subj, \"ct.nii.gz\")\n",
    "    \n",
    "    if not os.path.exists(ct_path):\n",
    "        print(f\"Skipping {subj}, no CT found.\")\n",
    "        continue\n",
    "\n",
    "    try:\n",
    "        # Load CT scan\n",
    "        img_sitk = sitk.ReadImage(ct_path)\n",
    "        arr = sitk.GetArrayFromImage(img_sitk)  # Shape: [z, y, x]\n",
    "    except Exception as e:\n",
    "        print(f\"Error loading {subj}: {e}\")\n",
    "        img_nib = nib.load(ct_path)\n",
    "        arr = img_nib.get_fdata(dtype=np.float32)\n",
    "        \n",
    "        zooms = img_nib.header.get_zooms() #Voxel sizes\n",
    "        axs_code = nio.ornt2axcodes(nio.io_orientation(img_nib.affine)) #Image orientation\n",
    "        data_shape_voxels = img_nib.header.get_data_shape() #Shape of data\n",
    "        data_shape_mm = np.array(data_shape_voxels)*np.array(zooms) #Data measures\n",
    "        data_type = img_nib.header.get_data_dtype() #Data type\n",
    "        \n",
    "        # Correct, if you use nib.save(img_nib, ...), you are saving the original image and metadata unchanged.\n",
    "        # If you want to change metadata (e.g., header info, affine), you need to create a new Nifti1Image with your desired arr, affine, and header.\n",
    "\n",
    "        # Example: change the header or affine, then save\n",
    "        new_affine = img_nib.affine  # or modify as needed\n",
    "        new_header = img_nib.header.copy()\n",
    "        # You can modify new_header fields here, e.g.:\n",
    "        # new_header['descrip'] = 'Modified CT scan'\n",
    "\n",
    "        new_img = nib.Nifti1Image(arr, affine=new_affine, header=new_header)\n",
    "        nib.save(new_img, os.path.join(base_dir, subj, \"ct_modified.nii.gz\"))\n",
    "\n",
    "    break\n",
    "# # Save as nii file\n",
    "# # Save with original metadata if using nibabel\n",
    "# if isinstance(img, nib.Nifti1Image):\n",
    "#     new_img = nib.Nifti1Image(arr, affine=img.affine, header=img.header)\n",
    "# else:\n",
    "#     # For SimpleITK, convert to nibabel and use identity affine (or extract from sitk if needed)\n",
    "#     new_img = nib.Nifti1Image(arr, affine=np.eye(4))\n",
    "# nib.save(new_img, os.path.join(base_dir, subj, \"ct_processed.nii.gz\"))"
   ]
  },
  {
   "cell_type": "code",
   "execution_count": 2,
   "id": "d1397501",
   "metadata": {},
   "outputs": [
    {
     "data": {
      "text/plain": [
       "<nibabel.nifti1.Nifti1Header at 0x7fbfc68010f0>"
      ]
     },
     "execution_count": 2,
     "metadata": {},
     "output_type": "execute_result"
    }
   ],
   "source": [
    "new_header"
   ]
  },
  {
   "cell_type": "code",
   "execution_count": 9,
   "id": "8cf181f8",
   "metadata": {},
   "outputs": [
    {
     "name": "stdout",
     "output_type": "stream",
     "text": [
      "CT Scan Information:\n",
      " - Voxel Sizes (mm): (np.float32(1.5), np.float32(1.5000001), np.float32(1.5))\n",
      " - Orientation (RAS): ('R', 'A', 'S')\n",
      " - Data Shape (voxels): (294, 192, 179)\n",
      " - Data Shape (mm): [441.         288.00002289 268.5       ]\n",
      " - Data Type: int16\n"
     ]
    }
   ],
   "source": [
    "zooms = img_nib.header.get_zooms() #Voxel sizes\n",
    "axs_code = nio.ornt2axcodes(nio.io_orientation(img_nib.affine)) #Image orientation\n",
    "data_shape_voxels = img_nib.header.get_data_shape() #Shape of data\n",
    "data_shape_mm = np.array(data_shape_voxels)*np.array(zooms) #Data measures\n",
    "data_type = img_nib.header.get_data_dtype() #Data type\n",
    "\n",
    "print(\"CT Scan Information:\")\n",
    "print(f\" - Voxel Sizes (mm): {zooms}\")\n",
    "print(f\" - Orientation (RAS): {axs_code}\")\n",
    "print(f\" - Data Shape (voxels): {data_shape_voxels}\")\n",
    "print(f\" - Data Shape (mm): {data_shape_mm}\")\n",
    "print(f\" - Data Type: {data_type}\")"
   ]
  },
  {
   "cell_type": "code",
   "execution_count": null,
   "id": "841f117b",
   "metadata": {},
   "outputs": [],
   "source": [
    "import os\n",
    "import nibabel as nib\n",
    "import matplotlib.pyplot as plt\n",
    "\n",
    "# Base dataset directory\n",
    "base_dir = \"/scratch/awias/data/Totalsegmentator_dataset_v201\"\n",
    "\n",
    "# Get all subject folders (s0000, s0001, ...)\n",
    "subjects = sorted([d for d in os.listdir(base_dir) if d.startswith(\"s\")])\n",
    "\n",
    "for subj in subjects:\n",
    "    ct_path = os.path.join(base_dir, subj, \"ct.nii.gz\")\n",
    "    \n",
    "    if not os.path.exists(ct_path):\n",
    "        print(f\"Skipping {subj}, no CT found.\")\n",
    "        continue\n",
    "\n",
    "    # Load CT scan with nibabel\n",
    "    img = nib.load(ct_path)\n",
    "    arr = img.get_fdata()  # numpy array, shape: (x, y, z)\n",
    "\n",
    "    # Pick the middle slice in z-direction\n",
    "    mid_slice = arr.shape[2] // 2\n",
    "    slice_img = arr[:, :, mid_slice]\n",
    "\n",
    "    # Plot\n",
    "    plt.figure(figsize=(5,5))\n",
    "    plt.imshow(slice_img.T, cmap=\"gray\", origin=\"lower\")\n",
    "    plt.title(f\"{subj} - middle slice\")\n",
    "    plt.axis(\"off\")\n",
    "    plt.show()\n"
   ]
  }
 ],
 "metadata": {
  "kernelspec": {
   "display_name": "nnunet_v2",
   "language": "python",
   "name": "python3"
  },
  "language_info": {
   "codemirror_mode": {
    "name": "ipython",
    "version": 3
   },
   "file_extension": ".py",
   "mimetype": "text/x-python",
   "name": "python",
   "nbconvert_exporter": "python",
   "pygments_lexer": "ipython3",
   "version": "3.13.5"
  }
 },
 "nbformat": 4,
 "nbformat_minor": 5
}

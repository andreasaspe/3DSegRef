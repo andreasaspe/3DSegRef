{
 "cells": [
  {
   "cell_type": "markdown",
   "id": "5c1dd0ee",
   "metadata": {},
   "source": [
    "# Move folders from raw and preprocessed to a subfolder"
   ]
  },
  {
   "cell_type": "code",
   "execution_count": 43,
   "id": "7af6af8f",
   "metadata": {},
   "outputs": [],
   "source": [
    "import os\n",
    "\n",
    "root = \"/scratch/awias/data/nnUNet\"\n",
    "\n",
    "folder__raw = os.path.join(root, 'nnUNet_raw')\n",
    "folder__preprocessed = os.path.join(root, 'nnUNet_preprocessed')\n",
    "\n",
    "folder_raw_out = os.path.join(root, 'nnUNet_raw', 'with_test_set')\n",
    "folder_preprocessed_out = os.path.join(root, 'nnUNet_preprocessed', 'with_test_set')\n",
    "os.makedirs(folder_raw_out, exist_ok=True)\n",
    "os.makedirs(folder_preprocessed_out, exist_ok=True)\n",
    "\n",
    "for subfolder in os.listdir(folder__raw):\n",
    "    if subfolder == \"with_test_set\":\n",
    "        continue\n",
    "    datasetID = int(subfolder.split(\"_\")[0].split(\"Dataset\")[1])\n",
    "    if datasetID >= 13:\n",
    "        os.rename(\n",
    "            os.path.join(folder__raw, subfolder),\n",
    "            os.path.join(folder_raw_out, f\"{subfolder.split('_', 1)[1]}\")\n",
    "        )\n",
    "        os.rename(\n",
    "            os.path.join(folder__preprocessed, subfolder),\n",
    "            os.path.join(folder_preprocessed_out, f\"{subfolder.split('_', 1)[1]}\")\n",
    "        )"
   ]
  },
  {
   "cell_type": "markdown",
   "id": "c00c3da0",
   "metadata": {},
   "source": [
    "# Move splits_final.json into right folders"
   ]
  },
  {
   "cell_type": "code",
   "execution_count": 45,
   "id": "d25e2ead",
   "metadata": {},
   "outputs": [],
   "source": [
    "import os\n",
    "import shutil\n",
    "\n",
    "root = \"/scratch/awias/data/nnUNet\"\n",
    "\n",
    "folder__raw = os.path.join(root, 'nnUNet_raw')\n",
    "folder__preprocessed = os.path.join(root, 'nnUNet_preprocessed')\n",
    "\n",
    "folder_raw_out = os.path.join(root, 'nnUNet_raw', 'with_test_set')\n",
    "folder_preprocessed_out = os.path.join(root, 'nnUNet_preprocessed', 'with_test_set')\n",
    "\n",
    "for subfolder in os.listdir(folder__raw):\n",
    "    if subfolder == \"with_test_set\":\n",
    "        continue\n",
    "    datasetID = int(subfolder.split(\"_\")[0].split(\"Dataset\")[1])\n",
    "    if datasetID >= 4:\n",
    "        totalsegmentatorname = subfolder.split('_', 1)[1]\n",
    "        json_file_path = os.path.join(root, 'nnUNet_preprocessed', subfolder, 'splits_final.json')\n",
    "        new_json_file_path = os.path.join(folder_preprocessed_out, totalsegmentatorname, 'splits_final.json')\n",
    "        if os.path.exists(json_file_path):\n",
    "            os.makedirs(os.path.dirname(new_json_file_path), exist_ok=True)\n",
    "            shutil.copy2(json_file_path, new_json_file_path)"
   ]
  }
 ],
 "metadata": {
  "kernelspec": {
   "display_name": "standard",
   "language": "python",
   "name": "python3"
  },
  "language_info": {
   "codemirror_mode": {
    "name": "ipython",
    "version": 3
   },
   "file_extension": ".py",
   "mimetype": "text/x-python",
   "name": "python",
   "nbconvert_exporter": "python",
   "pygments_lexer": "ipython3",
   "version": "3.13.5"
  }
 },
 "nbformat": 4,
 "nbformat_minor": 5
}

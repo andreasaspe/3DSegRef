{
 "cells": [
  {
   "cell_type": "code",
   "execution_count": 6,
   "id": "c5553ded",
   "metadata": {},
   "outputs": [],
   "source": [
    "import SimpleITK as sitk\n",
    "import numpy as np\n",
    "import matplotlib.pyplot as plt\n",
    "import matplotlib.colors as mcolors\n",
    "import os\n",
    "from matplotlib.patches import Patch\n",
    "\n",
    "def get_direction_code(img_sitk):\n",
    "    \"\"\" Get the direction of a SimpleITK image.\n",
    "    Args:\n",
    "        img_sitk (SimpleITK.Image): Input image.\n",
    "    Returns:\n",
    "        str: Direction code of the image.\n",
    "    \"\"\"\n",
    "    direction_code = sitk.DICOMOrientImageFilter().GetOrientationFromDirectionCosines(img_sitk.GetDirection())\n",
    "\n",
    "    return direction_code\n",
    "\n",
    "def reorient_sitk(img_sitk, new_direction):\n",
    "    \"\"\" Reorient a SimpleITK image to a new direction.\n",
    "    Args:\n",
    "        img_sitk (SimpleITK.Image): Input image to be reoriented.\n",
    "        new_direction (str): New direction code (e.g., 'LPS', 'RAS').\n",
    "    Returns:\n",
    "        SimpleITK.Image: Reoriented image.\n",
    "    \"\"\"\n",
    "\n",
    "    img_sitk_reoriented = sitk.DICOMOrient(img_sitk, new_direction)\n",
    "    \n",
    "    return img_sitk_reoriented\n"
   ]
  },
  {
   "cell_type": "code",
   "execution_count": 8,
   "id": "e43cb6f2",
   "metadata": {},
   "outputs": [
    {
     "name": "stdout",
     "output_type": "stream",
     "text": [
      "Saved\n",
      "Saved\n",
      "Saved\n"
     ]
    },
    {
     "name": "stderr",
     "output_type": "stream",
     "text": [
      "WARNING: In /tmp/SimpleITK-build/ITK/Modules/IO/NIFTI/src/itkNiftiImageIO.cxx, line 2008\n",
      "NiftiImageIO (0x3fcee30): /scratch/awias/data/Pancreas/nnUNet_dataset/nnUNet_raw/Dataset001_Pancreas/labelsTs/27.nii.gz has unexpected scales in sform\n",
      "\n",
      "WARNING: In /tmp/SimpleITK-build/ITK/Modules/IO/NIFTI/src/itkNiftiImageIO.cxx, line 2008\n",
      "NiftiImageIO (0x3fcee30): /scratch/awias/data/Pancreas/nnUNet_dataset/nnUNet_raw/Dataset001_Pancreas/labelsTs/27.nii.gz has unexpected scales in sform\n",
      "\n"
     ]
    },
    {
     "name": "stdout",
     "output_type": "stream",
     "text": [
      "Saved\n",
      "Saved\n",
      "Saved\n",
      "Saved\n",
      "Saved\n",
      "Saved\n",
      "Saved\n",
      "Saved\n",
      "Saved\n",
      "Saved\n",
      "Saved\n",
      "Saved\n",
      "Saved\n"
     ]
    }
   ],
   "source": [
    "import os\n",
    "from tqdm import tqdm\n",
    "import numpy as np\n",
    "import SimpleITK as sitk\n",
    "\n",
    "image_path = \"/scratch/awias/data/Pancreas/nnUNet_dataset/nnUNet_raw/Dataset001_Pancreas/imagesTs\"\n",
    "label_path = \"/scratch/awias/data/Pancreas/nnUNet_dataset/nnUNet_raw/Dataset001_Pancreas/labelsTs\"\n",
    "\n",
    "all_subjects = [x.split('_')[0] for x in os.listdir(image_path) if x.endswith(\".nii.gz\")]\n",
    "\n",
    "#Make sure the files are sorted in the same order\n",
    "\n",
    "output_folder = \"/scratch/awias/data/Pancreas/reoriented_test_data\"\n",
    "\n",
    "for subject in tqdm(all_subjects):\n",
    "    img_path = os.path.join(image_path, f\"{subject}_0000.nii.gz\")\n",
    "    mask_path = os.path.join(label_path, f\"{subject}.nii.gz\")\n",
    "\n",
    "    image_sitk = sitk.ReadImage(img_path)\n",
    "    mask_sitk = sitk.ReadImage(mask_path)\n",
    "\n",
    "    new_orientation_code = 'LAS'\n",
    "\n",
    "    image_sitk = reorient_sitk(image_sitk, new_orientation_code)\n",
    "    mask_sitk = reorient_sitk(mask_sitk, new_orientation_code)\n",
    "\n",
    "    # Save image and mask in same folder reoriented\n",
    "    sitk.WriteImage(image_sitk, img_path)\n",
    "    sitk.WriteImage(mask_sitk, mask_path)"
   ]
  }
 ],
 "metadata": {
  "kernelspec": {
   "display_name": "nnunet_v2",
   "language": "python",
   "name": "python3"
  },
  "language_info": {
   "codemirror_mode": {
    "name": "ipython",
    "version": 3
   },
   "file_extension": ".py",
   "mimetype": "text/x-python",
   "name": "python",
   "nbconvert_exporter": "python",
   "pygments_lexer": "ipython3",
   "version": "3.13.5"
  }
 },
 "nbformat": 4,
 "nbformat_minor": 5
}

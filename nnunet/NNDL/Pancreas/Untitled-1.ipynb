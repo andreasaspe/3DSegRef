{
 "cells": [
  {
   "cell_type": "code",
   "execution_count": 10,
   "id": "c5553ded",
   "metadata": {},
   "outputs": [],
   "source": [
    "import SimpleITK as sitk\n",
    "import numpy as np\n",
    "import matplotlib.pyplot as plt\n",
    "import matplotlib.colors as mcolors\n",
    "import os\n",
    "from matplotlib.patches import Patch\n",
    "\n",
    "def get_direction_code(img_sitk):\n",
    "    \"\"\" Get the direction of a SimpleITK image.\n",
    "    Args:\n",
    "        img_sitk (SimpleITK.Image): Input image.\n",
    "    Returns:\n",
    "        str: Direction code of the image.\n",
    "    \"\"\"\n",
    "    direction_code = sitk.DICOMOrientImageFilter().GetOrientationFromDirectionCosines(img_sitk.GetDirection())\n",
    "\n",
    "    return direction_code\n",
    "\n",
    "def reorient_sitk(img_sitk, new_direction):\n",
    "    \"\"\" Reorient a SimpleITK image to a new direction.\n",
    "    Args:\n",
    "        img_sitk (SimpleITK.Image): Input image to be reoriented.\n",
    "        new_direction (str): New direction code (e.g., 'LPS', 'RAS').\n",
    "    Returns:\n",
    "        SimpleITK.Image: Reoriented image.\n",
    "    \"\"\"\n",
    "\n",
    "    img_sitk_reoriented = sitk.DICOMOrient(img_sitk, new_direction)\n"
   ]
  },
  {
   "cell_type": "code",
   "execution_count": 12,
   "id": "e43cb6f2",
   "metadata": {},
   "outputs": [
    {
     "name": "stdout",
     "output_type": "stream",
     "text": [
      "LAI\n",
      "LAS\n",
      "Error processing subject 38. Skipping...\n",
      "LAI\n",
      "LAS\n",
      "Error processing subject 13. Skipping...\n",
      "LAI\n",
      "LAS\n",
      "Error processing subject 39. Skipping...\n",
      "LAI\n",
      "LAS\n",
      "Error processing subject 72. Skipping...\n"
     ]
    },
    {
     "name": "stderr",
     "output_type": "stream",
     "text": [
      "** ERROR (nifti_image_write_engine): cannot open output file '/scratch/awias/data/Pancreas/test/38_reoriented.nii.gz'\n",
      "** ERROR (nifti_image_write_engine): cannot open output file '/scratch/awias/data/Pancreas/test/13_reoriented.nii.gz'\n",
      "** ERROR (nifti_image_write_engine): cannot open output file '/scratch/awias/data/Pancreas/test/39_reoriented.nii.gz'\n",
      "** ERROR (nifti_image_write_engine): cannot open output file '/scratch/awias/data/Pancreas/test/72_reoriented.nii.gz'\n"
     ]
    },
    {
     "name": "stdout",
     "output_type": "stream",
     "text": [
      "LAI\n",
      "LAS\n",
      "Error processing subject 73. Skipping...\n",
      "LAI\n",
      "LAS\n",
      "Error processing subject 1. Skipping...\n",
      "LAI\n",
      "LAS\n",
      "Error processing subject 75. Skipping...\n",
      "LAI\n",
      "LAS\n",
      "Error processing subject 51. Skipping...\n"
     ]
    },
    {
     "name": "stderr",
     "output_type": "stream",
     "text": [
      "** ERROR (nifti_image_write_engine): cannot open output file '/scratch/awias/data/Pancreas/test/73_reoriented.nii.gz'\n",
      "** ERROR (nifti_image_write_engine): cannot open output file '/scratch/awias/data/Pancreas/test/1_reoriented.nii.gz'\n",
      "** ERROR (nifti_image_write_engine): cannot open output file '/scratch/awias/data/Pancreas/test/75_reoriented.nii.gz'\n",
      "** ERROR (nifti_image_write_engine): cannot open output file '/scratch/awias/data/Pancreas/test/51_reoriented.nii.gz'\n"
     ]
    },
    {
     "name": "stdout",
     "output_type": "stream",
     "text": [
      "LAI\n",
      "LAS\n",
      "Error processing subject 19. Skipping...\n",
      "LAI\n",
      "LAS\n",
      "Error processing subject 27. Skipping...\n",
      "LAI\n",
      "LAS\n",
      "Error processing subject 30. Skipping...\n",
      "LAI\n",
      "LAS\n",
      "Error processing subject 55. Skipping...\n"
     ]
    },
    {
     "name": "stderr",
     "output_type": "stream",
     "text": [
      "** ERROR (nifti_image_write_engine): cannot open output file '/scratch/awias/data/Pancreas/test/19_reoriented.nii.gz'\n",
      "WARNING: In /tmp/SimpleITK-build/ITK/Modules/IO/NIFTI/src/itkNiftiImageIO.cxx, line 2008\n",
      "NiftiImageIO (0x4191ee0): /scratch/awias/data/Pancreas/nnUNet_dataset/nnUNet_raw/Dataset001_Pancreas/labelsTs/27.nii.gz has unexpected scales in sform\n",
      "\n",
      "WARNING: In /tmp/SimpleITK-build/ITK/Modules/IO/NIFTI/src/itkNiftiImageIO.cxx, line 2008\n",
      "NiftiImageIO (0x4191ee0): /scratch/awias/data/Pancreas/nnUNet_dataset/nnUNet_raw/Dataset001_Pancreas/labelsTs/27.nii.gz has unexpected scales in sform\n",
      "\n",
      "** ERROR (nifti_image_write_engine): cannot open output file '/scratch/awias/data/Pancreas/test/27_reoriented.nii.gz'\n",
      "** ERROR (nifti_image_write_engine): cannot open output file '/scratch/awias/data/Pancreas/test/30_reoriented.nii.gz'\n",
      "** ERROR (nifti_image_write_engine): cannot open output file '/scratch/awias/data/Pancreas/test/55_reoriented.nii.gz'\n"
     ]
    },
    {
     "name": "stdout",
     "output_type": "stream",
     "text": [
      "LAI\n",
      "LAS\n",
      "Error processing subject 36. Skipping...\n",
      "LAI\n",
      "LAS\n",
      "Error processing subject 40. Skipping...\n",
      "LAI\n",
      "LAS\n",
      "Error processing subject 20. Skipping...\n",
      "LAI\n",
      "LAS\n",
      "Error processing subject 42. Skipping...\n"
     ]
    },
    {
     "name": "stderr",
     "output_type": "stream",
     "text": [
      "** ERROR (nifti_image_write_engine): cannot open output file '/scratch/awias/data/Pancreas/test/36_reoriented.nii.gz'\n",
      "** ERROR (nifti_image_write_engine): cannot open output file '/scratch/awias/data/Pancreas/test/40_reoriented.nii.gz'\n",
      "** ERROR (nifti_image_write_engine): cannot open output file '/scratch/awias/data/Pancreas/test/20_reoriented.nii.gz'\n",
      "** ERROR (nifti_image_write_engine): cannot open output file '/scratch/awias/data/Pancreas/test/42_reoriented.nii.gz'\n"
     ]
    },
    {
     "ename": "ZeroDivisionError",
     "evalue": "division by zero",
     "output_type": "error",
     "traceback": [
      "\u001b[31m---------------------------------------------------------------------------\u001b[39m",
      "\u001b[31mZeroDivisionError\u001b[39m                         Traceback (most recent call last)",
      "\u001b[36mCell\u001b[39m\u001b[36m \u001b[39m\u001b[32mIn[12]\u001b[39m\u001b[32m, line 75\u001b[39m\n\u001b[32m     72\u001b[39m     \u001b[38;5;28;01mexcept\u001b[39;00m:\n\u001b[32m     73\u001b[39m         \u001b[38;5;28mprint\u001b[39m(\u001b[33mf\u001b[39m\u001b[33m\"\u001b[39m\u001b[33mError processing subject \u001b[39m\u001b[38;5;132;01m{\u001b[39;00msubject\u001b[38;5;132;01m}\u001b[39;00m\u001b[33m. Skipping...\u001b[39m\u001b[33m\"\u001b[39m)\n\u001b[32m---> \u001b[39m\u001b[32m75\u001b[39m \u001b[38;5;28mprint\u001b[39m(\u001b[33mf\u001b[39m\u001b[33m\"\u001b[39m\u001b[33mMean dice score: \u001b[39m\u001b[38;5;132;01m{\u001b[39;00m\u001b[38;5;28;43msum\u001b[39;49m\u001b[43m(\u001b[49m\u001b[43mdice_list\u001b[49m\u001b[43m)\u001b[49m\u001b[38;5;250;43m \u001b[39;49m\u001b[43m/\u001b[49m\u001b[38;5;250;43m \u001b[39;49m\u001b[38;5;28;43mlen\u001b[39;49m\u001b[43m(\u001b[49m\u001b[43mdice_list\u001b[49m\u001b[43m)\u001b[49m\u001b[38;5;132;01m}\u001b[39;00m\u001b[33m\"\u001b[39m)\n\u001b[32m     76\u001b[39m \u001b[38;5;28mprint\u001b[39m(\u001b[33mf\u001b[39m\u001b[33m\"\u001b[39m\u001b[33mMedian dice score: \u001b[39m\u001b[38;5;132;01m{\u001b[39;00m\u001b[38;5;28msorted\u001b[39m(dice_list)[\u001b[38;5;28mlen\u001b[39m(dice_list)\u001b[38;5;250m \u001b[39m//\u001b[38;5;250m \u001b[39m\u001b[32m2\u001b[39m]\u001b[38;5;132;01m}\u001b[39;00m\u001b[33m\"\u001b[39m)\n\u001b[32m     77\u001b[39m \u001b[38;5;28mprint\u001b[39m(\u001b[33mf\u001b[39m\u001b[33m\"\u001b[39m\u001b[33mMax dice score: \u001b[39m\u001b[38;5;132;01m{\u001b[39;00m\u001b[38;5;28mmax\u001b[39m(dice_list)\u001b[38;5;132;01m}\u001b[39;00m\u001b[33m\"\u001b[39m)\n",
      "\u001b[31mZeroDivisionError\u001b[39m: division by zero"
     ]
    }
   ],
   "source": [
    "import os\n",
    "from tqdm import tqdm\n",
    "import numpy as np\n",
    "import SimpleITK as sitk\n",
    "\n",
    "def dice_score(y_true, y_pred, smooth=1e-6):\n",
    "    \"\"\"\n",
    "    Compute the Dice score between two binary masks.\n",
    "\n",
    "    Args:\n",
    "        y_true (numpy.ndarray): Ground truth binary mask.\n",
    "        y_pred (numpy.ndarray): Predicted binary mask.\n",
    "        smooth (float): Smoothing factor to avoid division by zero.\n",
    "\n",
    "    Returns:\n",
    "        float: Dice score.\n",
    "    \"\"\"\n",
    "    intersection = np.sum(y_true * y_pred)\n",
    "    return (2. * intersection + smooth) / (np.sum(y_true) + np.sum(y_pred) + smooth)\n",
    "\n",
    "label_gt_path = \"/scratch/awias/data/Pancreas/nnUNet_dataset/nnUNet_raw/Dataset001_Pancreas/labelsTs\"\n",
    "label_pred_path = \"/scratch/awias/data/Pancreas/nnUNet_dataset/nnUNet_raw/Dataset001_Pancreas/imagesTs/man_preds\"\n",
    "\n",
    "label_gt_file = [x for x in os.listdir(label_gt_path) if x.endswith(\".nii.gz\")]\n",
    "label_pred_file = [x for x in os.listdir(label_pred_path) if x.endswith(\".nii.gz\")]\n",
    "\n",
    "all_subjects = [x.split('_')[0] for x in label_pred_file]\n",
    "\n",
    "#Make sure the files are sorted in the same order\n",
    "label_gt_file = sorted(label_gt_file, key=lambda x: x.split('_')[0])\n",
    "label_pred_file = sorted(label_pred_file, key=lambda x: x.split('_')[1])\n",
    "\n",
    "# if len(label_gt_file) != len(label_pred_file):\n",
    "#     raise ValueError(\"Number of ground truth and prediction files do not match\")\n",
    "\n",
    "output_folder = \"/scratch/awias/data/Pancreas/test\"\n",
    "\n",
    "dice_list = []\n",
    "n = len(label_gt_file)\n",
    "\n",
    "for subject in all_subjects:\n",
    "    try:\n",
    "        mask_gt_sitk = sitk.ReadImage(os.path.join(label_gt_path, f\"{subject}.nii.gz\"))\n",
    "        pred_sitk = sitk.ReadImage(os.path.join(label_pred_path, f\"{subject}_0000_pred.nii.gz\"))\n",
    "        \n",
    "        print(get_direction_code(mask_gt_sitk))\n",
    "        print(get_direction_code(pred_sitk))\n",
    "        \n",
    "        pred_sitk.CopyInformation(mask_gt_sitk)  # Ensure the prediction has the same metadata as the ground truth\n",
    "        \n",
    "        # Save mask_gt_sitk and pred_sitk with new orientation in same folder\n",
    "        sitk.WriteImage(mask_gt_sitk, os.path.join(output_folder, f\"{subject}_reoriented.nii.gz\"))\n",
    "        sitk.WriteImage(pred_sitk, os.path.join(output_folder, f\"{subject}_0000_pred_reoriented.nii.gz\"))\n",
    "\n",
    "        print(\"Saved\")\n",
    "\n",
    "        mask_gt = sitk.GetArrayFromImage(mask_gt_sitk)\n",
    "        pred = sitk.GetArrayFromImage(pred_sitk)\n",
    "        \n",
    "        print(get_direction_code(mask_gt_sitk))\n",
    "        print(get_direction_code(pred_sitk))\n",
    "\n",
    "        # print(os.path.join(label_gt_path,label_gt_file[i]))\n",
    "        # print(os.path.join(label_pred_path,label_pred_file[i]))\n",
    "        # plot_central_slice_img_mask(mask_gt, pred, spacing=None)\n",
    "        \n",
    "\n",
    "        dice = dice_score(mask_gt, pred)\n",
    "        dice_list.append(dice)\n",
    "        \n",
    "        print(f\"Dice score for subject {subject} is: {dice}\")\n",
    "    except:\n",
    "        print(f\"Error processing subject {subject}. Skipping...\")\n",
    "\n",
    "print(f\"Mean dice score: {sum(dice_list) / len(dice_list)}\")\n",
    "print(f\"Median dice score: {sorted(dice_list)[len(dice_list) // 2]}\")\n",
    "print(f\"Max dice score: {max(dice_list)}\")\n",
    "print(f\"Min dice score: {min(dice_list)}\")\n"
   ]
  }
 ],
 "metadata": {
  "kernelspec": {
   "display_name": "nnunet_v2",
   "language": "python",
   "name": "python3"
  },
  "language_info": {
   "codemirror_mode": {
    "name": "ipython",
    "version": 3
   },
   "file_extension": ".py",
   "mimetype": "text/x-python",
   "name": "python",
   "nbconvert_exporter": "python",
   "pygments_lexer": "ipython3",
   "version": "3.13.5"
  }
 },
 "nbformat": 4,
 "nbformat_minor": 5
}
